{
 "cells": [
  {
   "cell_type": "code",
   "execution_count": 1,
   "metadata": {},
   "outputs": [],
   "source": [
    "import numpy as np\n",
    "from matplotlib import pyplot as plt"
   ]
  },
  {
   "cell_type": "code",
   "execution_count": 31,
   "metadata": {},
   "outputs": [
    {
     "name": "stdout",
     "output_type": "stream",
     "text": [
      "None\n",
      "None\n",
      "0.761196100173\n"
     ]
    }
   ],
   "source": [
    "class Reality:\n",
    "    def __init__(self, num_action=2):\n",
    "        self.num_action = num_action\n",
    "        self.cum_loss = np.zeros((num_action,))\n",
    "    \n",
    "    def next_loss(self, action=None):\n",
    "        new_loss = np.random.random(self.num_action)\n",
    "        self.cum_loss += new_loss\n",
    "        return new_loss\n",
    "    \n",
    "    def best_loss(self):\n",
    "        return np.min(self.cum_loss)\n",
    "    \n",
    "class AdversaryReality(Reality):\n",
    "    def __init__(self, num_action=2):\n",
    "        Reality.__init__(self, num_action)\n",
    "    \n",
    "    def next_loss(self, prob=None):\n",
    "        if prob is not None:\n",
    "            new_loss = prob.copy()\n",
    "            self.cum_loss += new_loss\n",
    "            return new_loss\n",
    "        else:\n",
    "            Reality.next_loss(self, action=None)\n",
    "\n",
    "class SwapReality(Reality):\n",
    "    def __init__(self, num_action=2):\n",
    "        Reality.__init__(self, num_action)\n",
    "        self.counter = 0\n",
    "        \n",
    "    def next_loss(self, prob=None):\n",
    "        self.counter += 1\n",
    "        new_loss = np.ones(self.num_action)\n",
    "        new_loss[(self.counter // 1000) % self.num_action] = 0.0\n",
    "        self.cum_loss += new_loss\n",
    "        return new_loss\n",
    "    \n",
    "adversary = AdversaryReality(num_action=3)\n",
    "for i in range(2):\n",
    "    print(adversary.next_loss(None))\n",
    "print(adversary.best_loss())"
   ]
  },
  {
   "cell_type": "code",
   "execution_count": 37,
   "metadata": {},
   "outputs": [],
   "source": [
    "class ExpAgent:\n",
    "    def __init__(self, num_action=2, eta=0.1):\n",
    "        self.log_weight = np.ones((num_action,))\n",
    "        self.eta = 0.1\n",
    "        self.num_action = num_action\n",
    "        self.cur_action = None\n",
    "        self.cum_loss = 0.0\n",
    "        \n",
    "    def update(self, loss):\n",
    "        self.log_weight += np.log(1 - self.eta * loss)\n",
    "        self.cum_loss += loss[int(self.cur_action)]\n",
    "        self.log_weight *= 1.0\n",
    "        \n",
    "    def next_action(self):\n",
    "        prob = np.exp(self.log_weight - np.max(self.log_weight))\n",
    "        prob /= np.sum(prob)\n",
    "        self.cur_action = np.random.choice(range(self.num_action), p=prob)\n",
    "        return self.cur_action, prob"
   ]
  },
  {
   "cell_type": "code",
   "execution_count": 38,
   "metadata": {},
   "outputs": [
    {
     "data": {
      "image/png": "[encoded data removed]",
      "text/plain": [
       "<Figure size 432x288 with 1 Axes>"
      ]
     },
     "metadata": {},
     "output_type": "display_data"
    }
   ],
   "source": [
    "adversary = SwapReality(num_action=3)\n",
    "agent = ExpAgent(num_action=3)\n",
    "\n",
    "best_losses, agent_losses = [], []\n",
    "\n",
    "for i in range(10000):\n",
    "    action, prob = agent.next_action()\n",
    "    loss = adversary.next_loss(prob)\n",
    "    agent.update(loss)\n",
    "\n",
    "    best_losses.append(adversary.best_loss())\n",
    "    agent_losses.append(agent.cum_loss)\n",
    "\n",
    "regret = np.array(agent_losses) - np.array(best_losses)\n",
    "plt.plot(regret, label='regret')\n",
    "plt.legend()\n",
    "plt.show()\n"
   ]
  },
  {
   "cell_type": "code",
   "execution_count": null,
   "metadata": {},
   "outputs": [],
   "source": []
  }
 ],
 "metadata": {
  "kernelspec": {
   "display_name": "Python 3",
   "language": "python",
   "name": "python3"
  },
  "language_info": {
   "codemirror_mode": {
    "name": "ipython",
    "version": 3
   },
   "file_extension": ".py",
   "mimetype": "text/x-python",
   "name": "python",
   "nbconvert_exporter": "python",
   "pygments_lexer": "ipython3",
   "version": "3.6.4"
  }
 },
 "nbformat": 4,
 "nbformat_minor": 2
}
